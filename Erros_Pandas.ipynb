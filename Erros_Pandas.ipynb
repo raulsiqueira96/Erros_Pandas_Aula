{
 "cells": [
  {
   "cell_type": "code",
   "execution_count": 1,
   "id": "aa66d334-65bd-4791-91e4-b18c893e48a1",
   "metadata": {},
   "outputs": [],
   "source": [
    "import pandas as pd\n",
    "import numpy as np"
   ]
  },
  {
   "cell_type": "markdown",
   "id": "3d8431fe-5bfc-4f38-813b-fa60d06d70e8",
   "metadata": {},
   "source": [
    "# 1 - Usar .loc ao inves de .query()"
   ]
  },
  {
   "cell_type": "code",
   "execution_count": 2,
   "id": "481915cb-abc7-4f1a-b44b-c7fb2faef4da",
   "metadata": {},
   "outputs": [
    {
     "data": {
      "text/html": [
       "<div>\n",
       "<style scoped>\n",
       "    .dataframe tbody tr th:only-of-type {\n",
       "        vertical-align: middle;\n",
       "    }\n",
       "\n",
       "    .dataframe tbody tr th {\n",
       "        vertical-align: top;\n",
       "    }\n",
       "\n",
       "    .dataframe thead th {\n",
       "        text-align: right;\n",
       "    }\n",
       "</style>\n",
       "<table border=\"1\" class=\"dataframe\">\n",
       "  <thead>\n",
       "    <tr style=\"text-align: right;\">\n",
       "      <th></th>\n",
       "      <th>Numero_do_produto</th>\n",
       "      <th>Nome_do_produto</th>\n",
       "      <th>Categoria_do_produto</th>\n",
       "      <th>Marca do produto</th>\n",
       "      <th>Preco_do_produto</th>\n",
       "    </tr>\n",
       "  </thead>\n",
       "  <tbody>\n",
       "    <tr>\n",
       "      <th>8</th>\n",
       "      <td>9</td>\n",
       "      <td>Produto 9</td>\n",
       "      <td>Carrinho</td>\n",
       "      <td>Marca C</td>\n",
       "      <td>72.44</td>\n",
       "    </tr>\n",
       "    <tr>\n",
       "      <th>21</th>\n",
       "      <td>22</td>\n",
       "      <td>Produto 22</td>\n",
       "      <td>Carrinho</td>\n",
       "      <td>Marca A</td>\n",
       "      <td>73.72</td>\n",
       "    </tr>\n",
       "    <tr>\n",
       "      <th>31</th>\n",
       "      <td>32</td>\n",
       "      <td>Produto 32</td>\n",
       "      <td>Carrinho</td>\n",
       "      <td>Marca B</td>\n",
       "      <td>93.89</td>\n",
       "    </tr>\n",
       "    <tr>\n",
       "      <th>32</th>\n",
       "      <td>33</td>\n",
       "      <td>Produto 33</td>\n",
       "      <td>Carrinho</td>\n",
       "      <td>Marca A</td>\n",
       "      <td>92.65</td>\n",
       "    </tr>\n",
       "  </tbody>\n",
       "</table>\n",
       "</div>"
      ],
      "text/plain": [
       "    Numero_do_produto Nome_do_produto Categoria_do_produto Marca do produto  \\\n",
       "8                   9       Produto 9             Carrinho          Marca C   \n",
       "21                 22      Produto 22             Carrinho          Marca A   \n",
       "31                 32      Produto 32             Carrinho          Marca B   \n",
       "32                 33      Produto 33             Carrinho          Marca A   \n",
       "\n",
       "    Preco_do_produto  \n",
       "8              72.44  \n",
       "21             73.72  \n",
       "31             93.89  \n",
       "32             92.65  "
      ]
     },
     "execution_count": 2,
     "metadata": {},
     "output_type": "execute_result"
    }
   ],
   "source": [
    "df = pd.read_csv(\"df_Produtos.csv\")\n",
    "df.loc[(df[\"Categoria_do_produto\"] == \"Carrinho\") & (df[\"Preco_do_produto\"] > 72)] "
   ]
  },
  {
   "cell_type": "code",
   "execution_count": 3,
   "id": "1930eee4-62d3-49ef-8460-30b2046cf4d0",
   "metadata": {},
   "outputs": [
    {
     "data": {
      "text/html": [
       "<div>\n",
       "<style scoped>\n",
       "    .dataframe tbody tr th:only-of-type {\n",
       "        vertical-align: middle;\n",
       "    }\n",
       "\n",
       "    .dataframe tbody tr th {\n",
       "        vertical-align: top;\n",
       "    }\n",
       "\n",
       "    .dataframe thead th {\n",
       "        text-align: right;\n",
       "    }\n",
       "</style>\n",
       "<table border=\"1\" class=\"dataframe\">\n",
       "  <thead>\n",
       "    <tr style=\"text-align: right;\">\n",
       "      <th></th>\n",
       "      <th>Numero_do_produto</th>\n",
       "      <th>Nome_do_produto</th>\n",
       "      <th>Categoria_do_produto</th>\n",
       "      <th>Marca do produto</th>\n",
       "      <th>Preco_do_produto</th>\n",
       "    </tr>\n",
       "  </thead>\n",
       "  <tbody>\n",
       "    <tr>\n",
       "      <th>8</th>\n",
       "      <td>9</td>\n",
       "      <td>Produto 9</td>\n",
       "      <td>Carrinho</td>\n",
       "      <td>Marca C</td>\n",
       "      <td>72.44</td>\n",
       "    </tr>\n",
       "    <tr>\n",
       "      <th>21</th>\n",
       "      <td>22</td>\n",
       "      <td>Produto 22</td>\n",
       "      <td>Carrinho</td>\n",
       "      <td>Marca A</td>\n",
       "      <td>73.72</td>\n",
       "    </tr>\n",
       "    <tr>\n",
       "      <th>31</th>\n",
       "      <td>32</td>\n",
       "      <td>Produto 32</td>\n",
       "      <td>Carrinho</td>\n",
       "      <td>Marca B</td>\n",
       "      <td>93.89</td>\n",
       "    </tr>\n",
       "    <tr>\n",
       "      <th>32</th>\n",
       "      <td>33</td>\n",
       "      <td>Produto 33</td>\n",
       "      <td>Carrinho</td>\n",
       "      <td>Marca A</td>\n",
       "      <td>92.65</td>\n",
       "    </tr>\n",
       "  </tbody>\n",
       "</table>\n",
       "</div>"
      ],
      "text/plain": [
       "    Numero_do_produto Nome_do_produto Categoria_do_produto Marca do produto  \\\n",
       "8                   9       Produto 9             Carrinho          Marca C   \n",
       "21                 22      Produto 22             Carrinho          Marca A   \n",
       "31                 32      Produto 32             Carrinho          Marca B   \n",
       "32                 33      Produto 33             Carrinho          Marca A   \n",
       "\n",
       "    Preco_do_produto  \n",
       "8              72.44  \n",
       "21             73.72  \n",
       "31             93.89  \n",
       "32             92.65  "
      ]
     },
     "execution_count": 3,
     "metadata": {},
     "output_type": "execute_result"
    }
   ],
   "source": [
    "df.query('Categoria_do_produto == \"Carrinho\" and Preco_do_produto > 72')"
   ]
  },
  {
   "cell_type": "markdown",
   "id": "a8033cd7-8a5d-4c8b-a547-06873b714d1f",
   "metadata": {
    "tags": []
   },
   "source": [
    "# 2 - Usar nomes das colunas com espacos"
   ]
  },
  {
   "cell_type": "code",
   "execution_count": 31,
   "id": "89e97bad-81c4-4b92-97c8-45fe367e1b0d",
   "metadata": {},
   "outputs": [
    {
     "data": {
      "text/plain": [
       "0    Marca E\n",
       "1    Marca B\n",
       "2    Marca C\n",
       "3    Marca A\n",
       "4    Marca C\n",
       "Name: Marca do produto, dtype: object"
      ]
     },
     "execution_count": 31,
     "metadata": {},
     "output_type": "execute_result"
    }
   ],
   "source": [
    "df = pd.read_csv(\"df_Produtos.csv\")\n",
    "df[\"Marca do produto\"].head(5)"
   ]
  },
  {
   "cell_type": "code",
   "execution_count": 5,
   "id": "6d79b218-997e-426c-9c37-9687ecf0430f",
   "metadata": {},
   "outputs": [
    {
     "data": {
      "text/html": [
       "<div>\n",
       "<style scoped>\n",
       "    .dataframe tbody tr th:only-of-type {\n",
       "        vertical-align: middle;\n",
       "    }\n",
       "\n",
       "    .dataframe tbody tr th {\n",
       "        vertical-align: top;\n",
       "    }\n",
       "\n",
       "    .dataframe thead th {\n",
       "        text-align: right;\n",
       "    }\n",
       "</style>\n",
       "<table border=\"1\" class=\"dataframe\">\n",
       "  <thead>\n",
       "    <tr style=\"text-align: right;\">\n",
       "      <th></th>\n",
       "      <th>Numero_do_produto</th>\n",
       "      <th>Nome_do_produto</th>\n",
       "      <th>Categoria_do_produto</th>\n",
       "      <th>Marca do produto</th>\n",
       "      <th>Preco_do_produto</th>\n",
       "    </tr>\n",
       "  </thead>\n",
       "  <tbody>\n",
       "    <tr>\n",
       "      <th>2</th>\n",
       "      <td>3</td>\n",
       "      <td>Produto 3</td>\n",
       "      <td>Carrinho</td>\n",
       "      <td>Marca C</td>\n",
       "      <td>33.15</td>\n",
       "    </tr>\n",
       "    <tr>\n",
       "      <th>8</th>\n",
       "      <td>9</td>\n",
       "      <td>Produto 9</td>\n",
       "      <td>Carrinho</td>\n",
       "      <td>Marca C</td>\n",
       "      <td>72.44</td>\n",
       "    </tr>\n",
       "  </tbody>\n",
       "</table>\n",
       "</div>"
      ],
      "text/plain": [
       "   Numero_do_produto Nome_do_produto Categoria_do_produto Marca do produto  \\\n",
       "2                  3       Produto 3             Carrinho          Marca C   \n",
       "8                  9       Produto 9             Carrinho          Marca C   \n",
       "\n",
       "   Preco_do_produto  \n",
       "2             33.15  \n",
       "8             72.44  "
      ]
     },
     "execution_count": 5,
     "metadata": {},
     "output_type": "execute_result"
    }
   ],
   "source": [
    "df.query('Categoria_do_produto == \"Carrinho\" and `Marca do produto` == \"Marca C\"')"
   ]
  },
  {
   "cell_type": "code",
   "execution_count": 32,
   "id": "0988dac1-515d-4e3b-b891-960ba4a29dec",
   "metadata": {},
   "outputs": [
    {
     "data": {
      "text/plain": [
       "0    Marca E\n",
       "1    Marca B\n",
       "2    Marca C\n",
       "3    Marca A\n",
       "4    Marca C\n",
       "Name: Marca_do_produto, dtype: object"
      ]
     },
     "execution_count": 32,
     "metadata": {},
     "output_type": "execute_result"
    }
   ],
   "source": [
    "df = pd.read_csv(\"df_Produtos.csv\")\n",
    "df = df.rename(columns={\"Marca do produto\":\"Marca_do_produto\"})\n",
    "df.Marca_do_produto.head()"
   ]
  },
  {
   "cell_type": "code",
   "execution_count": 7,
   "id": "f14d1815-349c-4880-bff2-df1e750084fb",
   "metadata": {},
   "outputs": [
    {
     "data": {
      "text/html": [
       "<div>\n",
       "<style scoped>\n",
       "    .dataframe tbody tr th:only-of-type {\n",
       "        vertical-align: middle;\n",
       "    }\n",
       "\n",
       "    .dataframe tbody tr th {\n",
       "        vertical-align: top;\n",
       "    }\n",
       "\n",
       "    .dataframe thead th {\n",
       "        text-align: right;\n",
       "    }\n",
       "</style>\n",
       "<table border=\"1\" class=\"dataframe\">\n",
       "  <thead>\n",
       "    <tr style=\"text-align: right;\">\n",
       "      <th></th>\n",
       "      <th>Numero_do_produto</th>\n",
       "      <th>Nome_do_produto</th>\n",
       "      <th>Categoria_do_produto</th>\n",
       "      <th>Marca_do_produto</th>\n",
       "      <th>Preco_do_produto</th>\n",
       "    </tr>\n",
       "  </thead>\n",
       "  <tbody>\n",
       "    <tr>\n",
       "      <th>2</th>\n",
       "      <td>3</td>\n",
       "      <td>Produto 3</td>\n",
       "      <td>Carrinho</td>\n",
       "      <td>Marca C</td>\n",
       "      <td>33.15</td>\n",
       "    </tr>\n",
       "    <tr>\n",
       "      <th>8</th>\n",
       "      <td>9</td>\n",
       "      <td>Produto 9</td>\n",
       "      <td>Carrinho</td>\n",
       "      <td>Marca C</td>\n",
       "      <td>72.44</td>\n",
       "    </tr>\n",
       "  </tbody>\n",
       "</table>\n",
       "</div>"
      ],
      "text/plain": [
       "   Numero_do_produto Nome_do_produto Categoria_do_produto Marca_do_produto  \\\n",
       "2                  3       Produto 3             Carrinho          Marca C   \n",
       "8                  9       Produto 9             Carrinho          Marca C   \n",
       "\n",
       "   Preco_do_produto  \n",
       "2             33.15  \n",
       "8             72.44  "
      ]
     },
     "execution_count": 7,
     "metadata": {},
     "output_type": "execute_result"
    }
   ],
   "source": [
    "df.query('Categoria_do_produto == \"Carrinho\" and Marca_do_produto == \"Marca C\"')"
   ]
  },
  {
   "cell_type": "markdown",
   "id": "5834a23a-d8db-454e-8033-2102bc7d2052",
   "metadata": {
    "tags": []
   },
   "source": [
    "# 3 - Modificar a df original quando fizer cópia"
   ]
  },
  {
   "cell_type": "code",
   "execution_count": 33,
   "id": "25a89aed-7bad-4db3-853f-a01fa1fb3d73",
   "metadata": {},
   "outputs": [
    {
     "name": "stderr",
     "output_type": "stream",
     "text": [
      "C:\\Users\\User\\AppData\\Local\\Temp\\ipykernel_18608\\1231998461.py:4: SettingWithCopyWarning: \n",
      "A value is trying to be set on a copy of a slice from a DataFrame.\n",
      "Try using .loc[row_indexer,col_indexer] = value instead\n",
      "\n",
      "See the caveats in the documentation: https://pandas.pydata.org/pandas-docs/stable/user_guide/indexing.html#returning-a-view-versus-a-copy\n",
      "  df_prod[\"Categoria\"] = df_prod[\"Categoria_do_produto\"].str.upper()\n"
     ]
    }
   ],
   "source": [
    "df = pd.read_csv(\"df_Produtos.csv\")\n",
    "\n",
    "df_prod = df.query('Categoria_do_produto == \"Carrinho\"')\n",
    "df_prod[\"Categoria\"] = df_prod[\"Categoria_do_produto\"].str.upper()"
   ]
  },
  {
   "cell_type": "code",
   "execution_count": 9,
   "id": "d6f67d6d-7932-4c5c-94e3-8a9a8f05496b",
   "metadata": {},
   "outputs": [
    {
     "data": {
      "text/html": [
       "<div>\n",
       "<style scoped>\n",
       "    .dataframe tbody tr th:only-of-type {\n",
       "        vertical-align: middle;\n",
       "    }\n",
       "\n",
       "    .dataframe tbody tr th {\n",
       "        vertical-align: top;\n",
       "    }\n",
       "\n",
       "    .dataframe thead th {\n",
       "        text-align: right;\n",
       "    }\n",
       "</style>\n",
       "<table border=\"1\" class=\"dataframe\">\n",
       "  <thead>\n",
       "    <tr style=\"text-align: right;\">\n",
       "      <th></th>\n",
       "      <th>Numero_do_produto</th>\n",
       "      <th>Nome_do_produto</th>\n",
       "      <th>Categoria_do_produto</th>\n",
       "      <th>Marca do produto</th>\n",
       "      <th>Preco_do_produto</th>\n",
       "      <th>Categoria</th>\n",
       "    </tr>\n",
       "  </thead>\n",
       "  <tbody>\n",
       "    <tr>\n",
       "      <th>1</th>\n",
       "      <td>2</td>\n",
       "      <td>Produto 2</td>\n",
       "      <td>Carrinho</td>\n",
       "      <td>Marca B</td>\n",
       "      <td>34.21</td>\n",
       "      <td>CARRINHO</td>\n",
       "    </tr>\n",
       "    <tr>\n",
       "      <th>2</th>\n",
       "      <td>3</td>\n",
       "      <td>Produto 3</td>\n",
       "      <td>Carrinho</td>\n",
       "      <td>Marca C</td>\n",
       "      <td>33.15</td>\n",
       "      <td>CARRINHO</td>\n",
       "    </tr>\n",
       "    <tr>\n",
       "      <th>3</th>\n",
       "      <td>4</td>\n",
       "      <td>Produto 4</td>\n",
       "      <td>Carrinho</td>\n",
       "      <td>Marca A</td>\n",
       "      <td>31.94</td>\n",
       "      <td>CARRINHO</td>\n",
       "    </tr>\n",
       "    <tr>\n",
       "      <th>7</th>\n",
       "      <td>8</td>\n",
       "      <td>Produto 8</td>\n",
       "      <td>Carrinho</td>\n",
       "      <td>Marca E</td>\n",
       "      <td>32.85</td>\n",
       "      <td>CARRINHO</td>\n",
       "    </tr>\n",
       "    <tr>\n",
       "      <th>8</th>\n",
       "      <td>9</td>\n",
       "      <td>Produto 9</td>\n",
       "      <td>Carrinho</td>\n",
       "      <td>Marca C</td>\n",
       "      <td>72.44</td>\n",
       "      <td>CARRINHO</td>\n",
       "    </tr>\n",
       "    <tr>\n",
       "      <th>19</th>\n",
       "      <td>20</td>\n",
       "      <td>Produto 20</td>\n",
       "      <td>Carrinho</td>\n",
       "      <td>Marca A</td>\n",
       "      <td>70.29</td>\n",
       "      <td>CARRINHO</td>\n",
       "    </tr>\n",
       "    <tr>\n",
       "      <th>21</th>\n",
       "      <td>22</td>\n",
       "      <td>Produto 22</td>\n",
       "      <td>Carrinho</td>\n",
       "      <td>Marca A</td>\n",
       "      <td>73.72</td>\n",
       "      <td>CARRINHO</td>\n",
       "    </tr>\n",
       "    <tr>\n",
       "      <th>22</th>\n",
       "      <td>23</td>\n",
       "      <td>Produto 23</td>\n",
       "      <td>Carrinho</td>\n",
       "      <td>Marca B</td>\n",
       "      <td>49.90</td>\n",
       "      <td>CARRINHO</td>\n",
       "    </tr>\n",
       "    <tr>\n",
       "      <th>25</th>\n",
       "      <td>26</td>\n",
       "      <td>Produto 26</td>\n",
       "      <td>Carrinho</td>\n",
       "      <td>Marca B</td>\n",
       "      <td>22.64</td>\n",
       "      <td>CARRINHO</td>\n",
       "    </tr>\n",
       "    <tr>\n",
       "      <th>31</th>\n",
       "      <td>32</td>\n",
       "      <td>Produto 32</td>\n",
       "      <td>Carrinho</td>\n",
       "      <td>Marca B</td>\n",
       "      <td>93.89</td>\n",
       "      <td>CARRINHO</td>\n",
       "    </tr>\n",
       "    <tr>\n",
       "      <th>32</th>\n",
       "      <td>33</td>\n",
       "      <td>Produto 33</td>\n",
       "      <td>Carrinho</td>\n",
       "      <td>Marca A</td>\n",
       "      <td>92.65</td>\n",
       "      <td>CARRINHO</td>\n",
       "    </tr>\n",
       "  </tbody>\n",
       "</table>\n",
       "</div>"
      ],
      "text/plain": [
       "    Numero_do_produto Nome_do_produto Categoria_do_produto Marca do produto  \\\n",
       "1                   2       Produto 2             Carrinho          Marca B   \n",
       "2                   3       Produto 3             Carrinho          Marca C   \n",
       "3                   4       Produto 4             Carrinho          Marca A   \n",
       "7                   8       Produto 8             Carrinho          Marca E   \n",
       "8                   9       Produto 9             Carrinho          Marca C   \n",
       "19                 20      Produto 20             Carrinho          Marca A   \n",
       "21                 22      Produto 22             Carrinho          Marca A   \n",
       "22                 23      Produto 23             Carrinho          Marca B   \n",
       "25                 26      Produto 26             Carrinho          Marca B   \n",
       "31                 32      Produto 32             Carrinho          Marca B   \n",
       "32                 33      Produto 33             Carrinho          Marca A   \n",
       "\n",
       "    Preco_do_produto Categoria  \n",
       "1              34.21  CARRINHO  \n",
       "2              33.15  CARRINHO  \n",
       "3              31.94  CARRINHO  \n",
       "7              32.85  CARRINHO  \n",
       "8              72.44  CARRINHO  \n",
       "19             70.29  CARRINHO  \n",
       "21             73.72  CARRINHO  \n",
       "22             49.90  CARRINHO  \n",
       "25             22.64  CARRINHO  \n",
       "31             93.89  CARRINHO  \n",
       "32             92.65  CARRINHO  "
      ]
     },
     "execution_count": 9,
     "metadata": {},
     "output_type": "execute_result"
    }
   ],
   "source": [
    "df = pd.read_csv(\"df_Produtos.csv\")\n",
    "\n",
    "df_prod = df.query('Categoria_do_produto == \"Carrinho\"').copy()\n",
    "df_prod[\"Categoria\"] = df[\"Categoria_do_produto\"].str.upper()\n",
    "df_prod"
   ]
  },
  {
   "cell_type": "code",
   "execution_count": 34,
   "id": "f6cff6a9-b80e-448a-8230-64ed9a17a874",
   "metadata": {},
   "outputs": [
    {
     "data": {
      "text/html": [
       "<div>\n",
       "<style scoped>\n",
       "    .dataframe tbody tr th:only-of-type {\n",
       "        vertical-align: middle;\n",
       "    }\n",
       "\n",
       "    .dataframe tbody tr th {\n",
       "        vertical-align: top;\n",
       "    }\n",
       "\n",
       "    .dataframe thead th {\n",
       "        text-align: right;\n",
       "    }\n",
       "</style>\n",
       "<table border=\"1\" class=\"dataframe\">\n",
       "  <thead>\n",
       "    <tr style=\"text-align: right;\">\n",
       "      <th></th>\n",
       "      <th>Numero_do_produto</th>\n",
       "      <th>Nome_do_produto</th>\n",
       "      <th>Categoria_do_produto</th>\n",
       "      <th>Marca do produto</th>\n",
       "      <th>Preco_do_produto</th>\n",
       "    </tr>\n",
       "  </thead>\n",
       "  <tbody>\n",
       "    <tr>\n",
       "      <th>43</th>\n",
       "      <td>44</td>\n",
       "      <td>Produto 44</td>\n",
       "      <td>Brinquedo de Pelúcia</td>\n",
       "      <td>Marca B</td>\n",
       "      <td>47.60</td>\n",
       "    </tr>\n",
       "    <tr>\n",
       "      <th>17</th>\n",
       "      <td>18</td>\n",
       "      <td>Produto 18</td>\n",
       "      <td>Quebra-Cabeça</td>\n",
       "      <td>Marca D</td>\n",
       "      <td>59.91</td>\n",
       "    </tr>\n",
       "    <tr>\n",
       "      <th>20</th>\n",
       "      <td>21</td>\n",
       "      <td>Produto 21</td>\n",
       "      <td>Quebra-Cabeça</td>\n",
       "      <td>Marca A</td>\n",
       "      <td>79.71</td>\n",
       "    </tr>\n",
       "    <tr>\n",
       "      <th>0</th>\n",
       "      <td>1</td>\n",
       "      <td>Produto 1</td>\n",
       "      <td>Brinquedo Educativo</td>\n",
       "      <td>Marca E</td>\n",
       "      <td>38.58</td>\n",
       "    </tr>\n",
       "    <tr>\n",
       "      <th>41</th>\n",
       "      <td>42</td>\n",
       "      <td>Produto 42</td>\n",
       "      <td>Brinquedo Educativo</td>\n",
       "      <td>Marca D</td>\n",
       "      <td>33.84</td>\n",
       "    </tr>\n",
       "    <tr>\n",
       "      <th>25</th>\n",
       "      <td>26</td>\n",
       "      <td>Produto 26</td>\n",
       "      <td>Carrinho</td>\n",
       "      <td>Marca B</td>\n",
       "      <td>22.64</td>\n",
       "    </tr>\n",
       "    <tr>\n",
       "      <th>38</th>\n",
       "      <td>39</td>\n",
       "      <td>Produto 39</td>\n",
       "      <td>Quebra-Cabeça</td>\n",
       "      <td>Marca E</td>\n",
       "      <td>54.91</td>\n",
       "    </tr>\n",
       "    <tr>\n",
       "      <th>48</th>\n",
       "      <td>49</td>\n",
       "      <td>Produto 49</td>\n",
       "      <td>Brinquedo Educativo</td>\n",
       "      <td>Marca C</td>\n",
       "      <td>45.57</td>\n",
       "    </tr>\n",
       "    <tr>\n",
       "      <th>5</th>\n",
       "      <td>6</td>\n",
       "      <td>Produto 6</td>\n",
       "      <td>Brinquedo de Pelúcia</td>\n",
       "      <td>Marca A</td>\n",
       "      <td>52.55</td>\n",
       "    </tr>\n",
       "    <tr>\n",
       "      <th>28</th>\n",
       "      <td>29</td>\n",
       "      <td>Produto 29</td>\n",
       "      <td>Jogo de Tabuleiro</td>\n",
       "      <td>Marca E</td>\n",
       "      <td>73.04</td>\n",
       "    </tr>\n",
       "  </tbody>\n",
       "</table>\n",
       "</div>"
      ],
      "text/plain": [
       "    Numero_do_produto Nome_do_produto  Categoria_do_produto Marca do produto  \\\n",
       "43                 44      Produto 44  Brinquedo de Pelúcia          Marca B   \n",
       "17                 18      Produto 18         Quebra-Cabeça          Marca D   \n",
       "20                 21      Produto 21         Quebra-Cabeça          Marca A   \n",
       "0                   1       Produto 1   Brinquedo Educativo          Marca E   \n",
       "41                 42      Produto 42   Brinquedo Educativo          Marca D   \n",
       "25                 26      Produto 26              Carrinho          Marca B   \n",
       "38                 39      Produto 39         Quebra-Cabeça          Marca E   \n",
       "48                 49      Produto 49   Brinquedo Educativo          Marca C   \n",
       "5                   6       Produto 6  Brinquedo de Pelúcia          Marca A   \n",
       "28                 29      Produto 29     Jogo de Tabuleiro          Marca E   \n",
       "\n",
       "    Preco_do_produto  \n",
       "43             47.60  \n",
       "17             59.91  \n",
       "20             79.71  \n",
       "0              38.58  \n",
       "41             33.84  \n",
       "25             22.64  \n",
       "38             54.91  \n",
       "48             45.57  \n",
       "5              52.55  \n",
       "28             73.04  "
      ]
     },
     "execution_count": 34,
     "metadata": {},
     "output_type": "execute_result"
    }
   ],
   "source": [
    "df.sample(10)"
   ]
  },
  {
   "cell_type": "markdown",
   "id": "878d0b3e-b80c-4539-b3c7-fc310e7fbbb9",
   "metadata": {
    "tags": []
   },
   "source": [
    "# 4 - Criar varias DFs ao inves de um unico comando em cadeia (chain command)"
   ]
  },
  {
   "cell_type": "code",
   "execution_count": 11,
   "id": "9a65c9b8-9e57-451d-8700-0e5ff751ab2f",
   "metadata": {},
   "outputs": [
    {
     "data": {
      "text/html": [
       "<div>\n",
       "<style scoped>\n",
       "    .dataframe tbody tr th:only-of-type {\n",
       "        vertical-align: middle;\n",
       "    }\n",
       "\n",
       "    .dataframe tbody tr th {\n",
       "        vertical-align: top;\n",
       "    }\n",
       "\n",
       "    .dataframe thead th {\n",
       "        text-align: right;\n",
       "    }\n",
       "</style>\n",
       "<table border=\"1\" class=\"dataframe\">\n",
       "  <thead>\n",
       "    <tr style=\"text-align: right;\">\n",
       "      <th></th>\n",
       "      <th>Preco_do_produto</th>\n",
       "    </tr>\n",
       "    <tr>\n",
       "      <th>Marca do produto</th>\n",
       "      <th></th>\n",
       "    </tr>\n",
       "  </thead>\n",
       "  <tbody>\n",
       "    <tr>\n",
       "      <th>Marca A</th>\n",
       "      <td>268.60</td>\n",
       "    </tr>\n",
       "    <tr>\n",
       "      <th>Marca B</th>\n",
       "      <td>200.64</td>\n",
       "    </tr>\n",
       "    <tr>\n",
       "      <th>Marca C</th>\n",
       "      <td>105.59</td>\n",
       "    </tr>\n",
       "    <tr>\n",
       "      <th>Marca E</th>\n",
       "      <td>32.85</td>\n",
       "    </tr>\n",
       "  </tbody>\n",
       "</table>\n",
       "</div>"
      ],
      "text/plain": [
       "                  Preco_do_produto\n",
       "Marca do produto                  \n",
       "Marca A                     268.60\n",
       "Marca B                     200.64\n",
       "Marca C                     105.59\n",
       "Marca E                      32.85"
      ]
     },
     "execution_count": 11,
     "metadata": {},
     "output_type": "execute_result"
    }
   ],
   "source": [
    "df = pd.read_csv(\"df_Produtos.csv\")\n",
    "df1 = df.query('Categoria_do_produto == \"Carrinho\"')\n",
    "df2 = df1.groupby(\"Marca do produto\")[[\"Preco_do_produto\"]].sum()\n",
    "df_final = df2.sort_values(\"Preco_do_produto\",ascending=False)\n",
    "df_final"
   ]
  },
  {
   "cell_type": "code",
   "execution_count": 12,
   "id": "607f7501-e49f-45d7-a321-81a742d23183",
   "metadata": {},
   "outputs": [
    {
     "data": {
      "text/html": [
       "<div>\n",
       "<style scoped>\n",
       "    .dataframe tbody tr th:only-of-type {\n",
       "        vertical-align: middle;\n",
       "    }\n",
       "\n",
       "    .dataframe tbody tr th {\n",
       "        vertical-align: top;\n",
       "    }\n",
       "\n",
       "    .dataframe thead th {\n",
       "        text-align: right;\n",
       "    }\n",
       "</style>\n",
       "<table border=\"1\" class=\"dataframe\">\n",
       "  <thead>\n",
       "    <tr style=\"text-align: right;\">\n",
       "      <th></th>\n",
       "      <th>Preco_do_produto</th>\n",
       "    </tr>\n",
       "    <tr>\n",
       "      <th>Marca do produto</th>\n",
       "      <th></th>\n",
       "    </tr>\n",
       "  </thead>\n",
       "  <tbody>\n",
       "    <tr>\n",
       "      <th>Marca A</th>\n",
       "      <td>268.60</td>\n",
       "    </tr>\n",
       "    <tr>\n",
       "      <th>Marca B</th>\n",
       "      <td>200.64</td>\n",
       "    </tr>\n",
       "    <tr>\n",
       "      <th>Marca C</th>\n",
       "      <td>105.59</td>\n",
       "    </tr>\n",
       "    <tr>\n",
       "      <th>Marca E</th>\n",
       "      <td>32.85</td>\n",
       "    </tr>\n",
       "  </tbody>\n",
       "</table>\n",
       "</div>"
      ],
      "text/plain": [
       "                  Preco_do_produto\n",
       "Marca do produto                  \n",
       "Marca A                     268.60\n",
       "Marca B                     200.64\n",
       "Marca C                     105.59\n",
       "Marca E                      32.85"
      ]
     },
     "execution_count": 12,
     "metadata": {},
     "output_type": "execute_result"
    }
   ],
   "source": [
    "df = pd.read_csv(\"df_Produtos.csv\")\n",
    "df_final = (df.query('Categoria_do_produto == \"Carrinho\"')\n",
    "            .groupby(\"Marca do produto\")[[\"Preco_do_produto\"]].sum()\n",
    "            .sort_values(\"Preco_do_produto\",ascending=False)\n",
    "           )\n",
    "df_final"
   ]
  },
  {
   "cell_type": "markdown",
   "id": "90ce2782-e643-4bd2-b00a-3da750723a56",
   "metadata": {
    "tags": []
   },
   "source": [
    "# 5 - Repertir comandos para realizar a mesa transformacao em diferentes base"
   ]
  },
  {
   "cell_type": "code",
   "execution_count": 13,
   "id": "3c56500f-727f-4764-90dd-b627cc9aa5b3",
   "metadata": {},
   "outputs": [
    {
     "data": {
      "text/html": [
       "<div>\n",
       "<style scoped>\n",
       "    .dataframe tbody tr th:only-of-type {\n",
       "        vertical-align: middle;\n",
       "    }\n",
       "\n",
       "    .dataframe tbody tr th {\n",
       "        vertical-align: top;\n",
       "    }\n",
       "\n",
       "    .dataframe thead th {\n",
       "        text-align: right;\n",
       "    }\n",
       "</style>\n",
       "<table border=\"1\" class=\"dataframe\">\n",
       "  <thead>\n",
       "    <tr style=\"text-align: right;\">\n",
       "      <th></th>\n",
       "      <th>Numero da loja</th>\n",
       "      <th>Numero do produto</th>\n",
       "      <th>Quantidade vendida</th>\n",
       "      <th>Data</th>\n",
       "    </tr>\n",
       "  </thead>\n",
       "  <tbody>\n",
       "    <tr>\n",
       "      <th>0</th>\n",
       "      <td>1</td>\n",
       "      <td>1</td>\n",
       "      <td>47.0</td>\n",
       "      <td>2021-01-01</td>\n",
       "    </tr>\n",
       "    <tr>\n",
       "      <th>1</th>\n",
       "      <td>1</td>\n",
       "      <td>2</td>\n",
       "      <td>10.0</td>\n",
       "      <td>2021-01-01</td>\n",
       "    </tr>\n",
       "    <tr>\n",
       "      <th>2</th>\n",
       "      <td>1</td>\n",
       "      <td>3</td>\n",
       "      <td>32.0</td>\n",
       "      <td>2021-01-01</td>\n",
       "    </tr>\n",
       "    <tr>\n",
       "      <th>3</th>\n",
       "      <td>1</td>\n",
       "      <td>4</td>\n",
       "      <td>11.0</td>\n",
       "      <td>2021-01-01</td>\n",
       "    </tr>\n",
       "    <tr>\n",
       "      <th>4</th>\n",
       "      <td>1</td>\n",
       "      <td>5</td>\n",
       "      <td>12.0</td>\n",
       "      <td>2021-01-01</td>\n",
       "    </tr>\n",
       "  </tbody>\n",
       "</table>\n",
       "</div>"
      ],
      "text/plain": [
       "   Numero da loja  Numero do produto  Quantidade vendida       Data\n",
       "0               1                  1                47.0 2021-01-01\n",
       "1               1                  2                10.0 2021-01-01\n",
       "2               1                  3                32.0 2021-01-01\n",
       "3               1                  4                11.0 2021-01-01\n",
       "4               1                  5                12.0 2021-01-01"
      ]
     },
     "execution_count": 13,
     "metadata": {},
     "output_type": "execute_result"
    }
   ],
   "source": [
    "df_1 = pd.read_csv(\"df_Vendas_1.csv\")\n",
    "df_1['Data'] = pd.to_datetime(df_1['Ano da venda'].astype(str) + '-' + df_1['Mes da venda'].astype(str) + '-01')\n",
    "df_1 = df_1.drop([\"Mes da venda\", \"Ano da venda\"], axis=1)\n",
    "df_1.head()"
   ]
  },
  {
   "cell_type": "code",
   "execution_count": 14,
   "id": "e782fb89-47bf-4f3c-9b47-927d96ae073f",
   "metadata": {},
   "outputs": [
    {
     "data": {
      "text/html": [
       "<div>\n",
       "<style scoped>\n",
       "    .dataframe tbody tr th:only-of-type {\n",
       "        vertical-align: middle;\n",
       "    }\n",
       "\n",
       "    .dataframe tbody tr th {\n",
       "        vertical-align: top;\n",
       "    }\n",
       "\n",
       "    .dataframe thead th {\n",
       "        text-align: right;\n",
       "    }\n",
       "</style>\n",
       "<table border=\"1\" class=\"dataframe\">\n",
       "  <thead>\n",
       "    <tr style=\"text-align: right;\">\n",
       "      <th></th>\n",
       "      <th>Numero da loja</th>\n",
       "      <th>Numero do produto</th>\n",
       "      <th>Quantidade vendida</th>\n",
       "      <th>Data</th>\n",
       "    </tr>\n",
       "  </thead>\n",
       "  <tbody>\n",
       "    <tr>\n",
       "      <th>0</th>\n",
       "      <td>40</td>\n",
       "      <td>21</td>\n",
       "      <td>32</td>\n",
       "      <td>2022-02-01</td>\n",
       "    </tr>\n",
       "    <tr>\n",
       "      <th>1</th>\n",
       "      <td>40</td>\n",
       "      <td>22</td>\n",
       "      <td>0</td>\n",
       "      <td>2022-02-01</td>\n",
       "    </tr>\n",
       "    <tr>\n",
       "      <th>2</th>\n",
       "      <td>40</td>\n",
       "      <td>23</td>\n",
       "      <td>10</td>\n",
       "      <td>2022-02-01</td>\n",
       "    </tr>\n",
       "    <tr>\n",
       "      <th>3</th>\n",
       "      <td>40</td>\n",
       "      <td>24</td>\n",
       "      <td>44</td>\n",
       "      <td>2022-02-01</td>\n",
       "    </tr>\n",
       "    <tr>\n",
       "      <th>4</th>\n",
       "      <td>40</td>\n",
       "      <td>25</td>\n",
       "      <td>20</td>\n",
       "      <td>2022-02-01</td>\n",
       "    </tr>\n",
       "  </tbody>\n",
       "</table>\n",
       "</div>"
      ],
      "text/plain": [
       "   Numero da loja  Numero do produto  Quantidade vendida       Data\n",
       "0              40                 21                  32 2022-02-01\n",
       "1              40                 22                   0 2022-02-01\n",
       "2              40                 23                  10 2022-02-01\n",
       "3              40                 24                  44 2022-02-01\n",
       "4              40                 25                  20 2022-02-01"
      ]
     },
     "execution_count": 14,
     "metadata": {},
     "output_type": "execute_result"
    }
   ],
   "source": [
    "df_2 = pd.read_csv(\"df_Vendas_2.csv\")\n",
    "df_2['Data'] = pd.to_datetime(df_2['Ano da venda'].astype(str) + '-' + df_2['Mes da venda'].astype(str) + '-01')\n",
    "df_2 = df_2.drop([\"Mes da venda\", \"Ano da venda\"], axis=1)\n",
    "df_2.head()"
   ]
  },
  {
   "cell_type": "code",
   "execution_count": 43,
   "id": "6cfb3bba-cc06-428b-9493-5a8e5d1cbf6b",
   "metadata": {},
   "outputs": [
    {
     "data": {
      "text/html": [
       "<div>\n",
       "<style scoped>\n",
       "    .dataframe tbody tr th:only-of-type {\n",
       "        vertical-align: middle;\n",
       "    }\n",
       "\n",
       "    .dataframe tbody tr th {\n",
       "        vertical-align: top;\n",
       "    }\n",
       "\n",
       "    .dataframe thead th {\n",
       "        text-align: right;\n",
       "    }\n",
       "</style>\n",
       "<table border=\"1\" class=\"dataframe\">\n",
       "  <thead>\n",
       "    <tr style=\"text-align: right;\">\n",
       "      <th></th>\n",
       "      <th>Numero da loja</th>\n",
       "      <th>Numero do produto</th>\n",
       "      <th>Mes da venda</th>\n",
       "      <th>Ano da venda</th>\n",
       "      <th>Quantidade vendida</th>\n",
       "    </tr>\n",
       "  </thead>\n",
       "  <tbody>\n",
       "    <tr>\n",
       "      <th>0</th>\n",
       "      <td>1</td>\n",
       "      <td>1</td>\n",
       "      <td>1</td>\n",
       "      <td>2021</td>\n",
       "      <td>47.0</td>\n",
       "    </tr>\n",
       "    <tr>\n",
       "      <th>1</th>\n",
       "      <td>1</td>\n",
       "      <td>2</td>\n",
       "      <td>1</td>\n",
       "      <td>2021</td>\n",
       "      <td>10.0</td>\n",
       "    </tr>\n",
       "    <tr>\n",
       "      <th>2</th>\n",
       "      <td>1</td>\n",
       "      <td>3</td>\n",
       "      <td>1</td>\n",
       "      <td>2021</td>\n",
       "      <td>32.0</td>\n",
       "    </tr>\n",
       "    <tr>\n",
       "      <th>3</th>\n",
       "      <td>1</td>\n",
       "      <td>4</td>\n",
       "      <td>1</td>\n",
       "      <td>2021</td>\n",
       "      <td>11.0</td>\n",
       "    </tr>\n",
       "    <tr>\n",
       "      <th>4</th>\n",
       "      <td>1</td>\n",
       "      <td>5</td>\n",
       "      <td>1</td>\n",
       "      <td>2021</td>\n",
       "      <td>12.0</td>\n",
       "    </tr>\n",
       "  </tbody>\n",
       "</table>\n",
       "</div>"
      ],
      "text/plain": [
       "   Numero da loja  Numero do produto  Mes da venda  Ano da venda  \\\n",
       "0               1                  1             1          2021   \n",
       "1               1                  2             1          2021   \n",
       "2               1                  3             1          2021   \n",
       "3               1                  4             1          2021   \n",
       "4               1                  5             1          2021   \n",
       "\n",
       "   Quantidade vendida  \n",
       "0                47.0  \n",
       "1                10.0  \n",
       "2                32.0  \n",
       "3                11.0  \n",
       "4                12.0  "
      ]
     },
     "execution_count": 43,
     "metadata": {},
     "output_type": "execute_result"
    }
   ],
   "source": [
    "df_1 = pd.read_csv(\"df_Vendas_1.csv\")\n",
    "df_2 = pd.read_csv(\"df_Vendas_2.csv\")\n",
    "df_1.head()"
   ]
  },
  {
   "cell_type": "code",
   "execution_count": 44,
   "id": "ba793d6f-3397-4d2e-b6ff-723ee4cafe62",
   "metadata": {},
   "outputs": [
    {
     "data": {
      "text/html": [
       "<div>\n",
       "<style scoped>\n",
       "    .dataframe tbody tr th:only-of-type {\n",
       "        vertical-align: middle;\n",
       "    }\n",
       "\n",
       "    .dataframe tbody tr th {\n",
       "        vertical-align: top;\n",
       "    }\n",
       "\n",
       "    .dataframe thead th {\n",
       "        text-align: right;\n",
       "    }\n",
       "</style>\n",
       "<table border=\"1\" class=\"dataframe\">\n",
       "  <thead>\n",
       "    <tr style=\"text-align: right;\">\n",
       "      <th></th>\n",
       "      <th>Numero da loja</th>\n",
       "      <th>Numero do produto</th>\n",
       "      <th>Quantidade vendida</th>\n",
       "      <th>Data</th>\n",
       "    </tr>\n",
       "  </thead>\n",
       "  <tbody>\n",
       "    <tr>\n",
       "      <th>0</th>\n",
       "      <td>1</td>\n",
       "      <td>1</td>\n",
       "      <td>47.0</td>\n",
       "      <td>2021-01-01</td>\n",
       "    </tr>\n",
       "    <tr>\n",
       "      <th>1</th>\n",
       "      <td>1</td>\n",
       "      <td>2</td>\n",
       "      <td>10.0</td>\n",
       "      <td>2021-01-01</td>\n",
       "    </tr>\n",
       "    <tr>\n",
       "      <th>2</th>\n",
       "      <td>1</td>\n",
       "      <td>3</td>\n",
       "      <td>32.0</td>\n",
       "      <td>2021-01-01</td>\n",
       "    </tr>\n",
       "    <tr>\n",
       "      <th>3</th>\n",
       "      <td>1</td>\n",
       "      <td>4</td>\n",
       "      <td>11.0</td>\n",
       "      <td>2021-01-01</td>\n",
       "    </tr>\n",
       "    <tr>\n",
       "      <th>4</th>\n",
       "      <td>1</td>\n",
       "      <td>5</td>\n",
       "      <td>12.0</td>\n",
       "      <td>2021-01-01</td>\n",
       "    </tr>\n",
       "  </tbody>\n",
       "</table>\n",
       "</div>"
      ],
      "text/plain": [
       "   Numero da loja  Numero do produto  Quantidade vendida       Data\n",
       "0               1                  1                47.0 2021-01-01\n",
       "1               1                  2                10.0 2021-01-01\n",
       "2               1                  3                32.0 2021-01-01\n",
       "3               1                  4                11.0 2021-01-01\n",
       "4               1                  5                12.0 2021-01-01"
      ]
     },
     "execution_count": 44,
     "metadata": {},
     "output_type": "execute_result"
    }
   ],
   "source": [
    "def tratamento(df):\n",
    "    df['Data'] = pd.to_datetime(df['Ano da venda'].astype(str) + '-' + df['Mes da venda'].astype(str) + '-01')\n",
    "    df = df.drop([\"Mes da venda\", \"Ano da venda\"], axis=1)\n",
    "    return df\n",
    "\n",
    "df_1 = tratamento(df_1)\n",
    "df_2 = tratamento(df_2)\n",
    "df_1.head()"
   ]
  },
  {
   "cell_type": "markdown",
   "id": "23653de3-a72e-4c8b-8e01-8c4013f38be0",
   "metadata": {
    "tags": []
   },
   "source": [
    "# 6 - Agrupar manualmente ao inves de usar o Groupby"
   ]
  },
  {
   "cell_type": "code",
   "execution_count": 17,
   "id": "5747af92-4fc2-45c0-a2b1-7d6f76bde06f",
   "metadata": {},
   "outputs": [
    {
     "data": {
      "text/plain": [
       "607.68"
      ]
     },
     "execution_count": 17,
     "metadata": {},
     "output_type": "execute_result"
    }
   ],
   "source": [
    "df = pd.read_csv(\"df_Produtos.csv\")\n",
    "df.loc[df[\"Categoria_do_produto\"] == \"Carrinho\"][\"Preco_do_produto\"].sum()"
   ]
  },
  {
   "cell_type": "code",
   "execution_count": 18,
   "id": "4e66be51-db59-49df-a4cb-1b4a396ec215",
   "metadata": {},
   "outputs": [
    {
     "data": {
      "text/plain": [
       "Categoria_do_produto\n",
       "Brinquedo Educativo     691.75\n",
       "Brinquedo de Pelúcia    424.63\n",
       "Carrinho                607.68\n",
       "Jogo de Tabuleiro       372.20\n",
       "Quebra-Cabeça           762.94\n",
       "Name: Preco_do_produto, dtype: float64"
      ]
     },
     "execution_count": 18,
     "metadata": {},
     "output_type": "execute_result"
    }
   ],
   "source": [
    "df.groupby(\"Categoria_do_produto\")[\"Preco_do_produto\"].sum()"
   ]
  },
  {
   "cell_type": "code",
   "execution_count": null,
   "id": "e53c8ac4-cdb8-48e4-a3cb-16d726888918",
   "metadata": {},
   "outputs": [],
   "source": []
  },
  {
   "cell_type": "code",
   "execution_count": null,
   "id": "dbe19540-87e1-4b8c-97bc-55eaa12b75f0",
   "metadata": {},
   "outputs": [],
   "source": []
  },
  {
   "cell_type": "code",
   "execution_count": null,
   "id": "e4f07f39-eca1-4bd5-8232-80f8350d7ddb",
   "metadata": {},
   "outputs": [],
   "source": []
  },
  {
   "cell_type": "code",
   "execution_count": null,
   "id": "67f8a317-19bb-4ac6-98d4-883090861fa4",
   "metadata": {},
   "outputs": [],
   "source": []
  },
  {
   "cell_type": "code",
   "execution_count": null,
   "id": "b17dcc30-2314-43bc-a6a0-0ee315b57eee",
   "metadata": {},
   "outputs": [],
   "source": []
  },
  {
   "cell_type": "code",
   "execution_count": null,
   "id": "f7fea2a0-ed29-4fbb-bb48-c6c61cff0443",
   "metadata": {},
   "outputs": [],
   "source": []
  },
  {
   "cell_type": "markdown",
   "id": "8ff5e8fb-f498-4a84-81d6-e45d284d4bb4",
   "metadata": {},
   "source": [
    "# 7 - Salvar Arquivos muito grandes em CSV"
   ]
  },
  {
   "cell_type": "code",
   "execution_count": 19,
   "id": "d1089480-b001-4a0a-abc1-ba8cc4668868",
   "metadata": {},
   "outputs": [
    {
     "name": "stdout",
     "output_type": "stream",
     "text": [
      "<class 'pandas.core.frame.DataFrame'>\n",
      "RangeIndex: 1000000 entries, 0 to 999999\n",
      "Data columns (total 2 columns):\n",
      " #   Column   Non-Null Count    Dtype\n",
      "---  ------   --------------    -----\n",
      " 0   Coluna1  1000000 non-null  int64\n",
      " 1   Coluna2  1000000 non-null  int64\n",
      "dtypes: int64(2)\n",
      "memory usage: 15.3 MB\n"
     ]
    }
   ],
   "source": [
    "import pandas as pd\n",
    "\n",
    "# Gerando um DataFrame fictício com um milhão de linhas\n",
    "data = {'Coluna1': range(1, 1000001),\n",
    "        'Coluna2': range(1000001, 2000001)}\n",
    "\n",
    "df = pd.DataFrame(data)\n",
    "df.info()"
   ]
  },
  {
   "cell_type": "code",
   "execution_count": 20,
   "id": "42c2a573-9d7a-4d00-bfa3-53200f5ed3d7",
   "metadata": {},
   "outputs": [
    {
     "name": "stdout",
     "output_type": "stream",
     "text": [
      "1.33 s ± 44 ms per loop (mean ± std. dev. of 7 runs, 1 loop each)\n"
     ]
    }
   ],
   "source": [
    "%%timeit\n",
    "df.to_csv(\"teste.csv\")"
   ]
  },
  {
   "cell_type": "code",
   "execution_count": 21,
   "id": "728f98ae-327f-428d-bc38-7981fe21ee15",
   "metadata": {},
   "outputs": [
    {
     "name": "stdout",
     "output_type": "stream",
     "text": [
      "71.4 ms ± 2.51 ms per loop (mean ± std. dev. of 7 runs, 10 loops each)\n"
     ]
    }
   ],
   "source": [
    "%%timeit\n",
    "df.to_parquet(\"teste.csv\")"
   ]
  },
  {
   "cell_type": "code",
   "execution_count": 22,
   "id": "be3a9782-7a08-4ed3-986f-ce83900a6b85",
   "metadata": {},
   "outputs": [
    {
     "name": "stdout",
     "output_type": "stream",
     "text": [
      "19.2 ms ± 371 µs per loop (mean ± std. dev. of 7 runs, 100 loops each)\n"
     ]
    }
   ],
   "source": [
    "%%timeit\n",
    "df.to_feather(\"teste.csv\")"
   ]
  },
  {
   "cell_type": "code",
   "execution_count": 23,
   "id": "7263133d-11e6-4a01-a361-5840cac1df38",
   "metadata": {},
   "outputs": [
    {
     "name": "stdout",
     "output_type": "stream",
     "text": [
      "7.12 ms ± 622 µs per loop (mean ± std. dev. of 7 runs, 100 loops each)\n"
     ]
    }
   ],
   "source": [
    "%%timeit\n",
    "df.to_pickle(\"teste.csv\")"
   ]
  },
  {
   "cell_type": "markdown",
   "id": "3ef6f330-e152-4686-9d84-1c24b744c64f",
   "metadata": {
    "tags": []
   },
   "source": [
    "# 8 - Voltar para excel para fazer formatacao condicional"
   ]
  },
  {
   "cell_type": "code",
   "execution_count": 50,
   "id": "00826f8e-4bf8-4b22-8482-61f41d4f489d",
   "metadata": {},
   "outputs": [
    {
     "data": {
      "text/html": [
       "<style type=\"text/css\">\n",
       "#T_f2b21_row0_col2 {\n",
       "  background-color: #349d53;\n",
       "  color: #f1f1f1;\n",
       "}\n",
       "#T_f2b21_row1_col2 {\n",
       "  background-color: #006d2c;\n",
       "  color: #f1f1f1;\n",
       "}\n",
       "#T_f2b21_row2_col2 {\n",
       "  background-color: #005622;\n",
       "  color: #f1f1f1;\n",
       "}\n",
       "#T_f2b21_row3_col2 {\n",
       "  background-color: #e7f6e2;\n",
       "  color: #000000;\n",
       "}\n",
       "#T_f2b21_row4_col2 {\n",
       "  background-color: #f0f9ed;\n",
       "  color: #000000;\n",
       "}\n",
       "#T_f2b21_row5_col2 {\n",
       "  background-color: #e1f3dc;\n",
       "  color: #000000;\n",
       "}\n",
       "#T_f2b21_row6_col2 {\n",
       "  background-color: #56b567;\n",
       "  color: #f1f1f1;\n",
       "}\n",
       "#T_f2b21_row7_col2 {\n",
       "  background-color: #0c7735;\n",
       "  color: #f1f1f1;\n",
       "}\n",
       "#T_f2b21_row8_col2 {\n",
       "  background-color: #00441b;\n",
       "  color: #f1f1f1;\n",
       "}\n",
       "#T_f2b21_row9_col2 {\n",
       "  background-color: #f7fcf5;\n",
       "  color: #000000;\n",
       "}\n",
       "</style>\n",
       "<table id=\"T_f2b21\">\n",
       "  <thead>\n",
       "    <tr>\n",
       "      <th class=\"blank level0\" >&nbsp;</th>\n",
       "      <th id=\"T_f2b21_level0_col0\" class=\"col_heading level0 col0\" >Categoria_do_produto</th>\n",
       "      <th id=\"T_f2b21_level0_col1\" class=\"col_heading level0 col1\" >Marca do produto</th>\n",
       "      <th id=\"T_f2b21_level0_col2\" class=\"col_heading level0 col2\" >Preco_do_produto</th>\n",
       "    </tr>\n",
       "  </thead>\n",
       "  <tbody>\n",
       "    <tr>\n",
       "      <th id=\"T_f2b21_level0_row0\" class=\"row_heading level0 row0\" >0</th>\n",
       "      <td id=\"T_f2b21_row0_col0\" class=\"data row0 col0\" >Jogo de Tabuleiro</td>\n",
       "      <td id=\"T_f2b21_row0_col1\" class=\"data row0 col1\" >Marca E</td>\n",
       "      <td id=\"T_f2b21_row0_col2\" class=\"data row0 col2\" >73.040000</td>\n",
       "    </tr>\n",
       "    <tr>\n",
       "      <th id=\"T_f2b21_level0_row1\" class=\"row_heading level0 row1\" >1</th>\n",
       "      <td id=\"T_f2b21_row1_col0\" class=\"data row1 col0\" >Brinquedo Educativo</td>\n",
       "      <td id=\"T_f2b21_row1_col1\" class=\"data row1 col1\" >Marca E</td>\n",
       "      <td id=\"T_f2b21_row1_col2\" class=\"data row1 col2\" >89.320000</td>\n",
       "    </tr>\n",
       "    <tr>\n",
       "      <th id=\"T_f2b21_level0_row2\" class=\"row_heading level0 row2\" >2</th>\n",
       "      <td id=\"T_f2b21_row2_col0\" class=\"data row2 col0\" >Quebra-Cabeça</td>\n",
       "      <td id=\"T_f2b21_row2_col1\" class=\"data row2 col1\" >Marca C</td>\n",
       "      <td id=\"T_f2b21_row2_col2\" class=\"data row2 col2\" >95.130000</td>\n",
       "    </tr>\n",
       "    <tr>\n",
       "      <th id=\"T_f2b21_level0_row3\" class=\"row_heading level0 row3\" >3</th>\n",
       "      <td id=\"T_f2b21_row3_col0\" class=\"data row3 col0\" >Brinquedo de Pelúcia</td>\n",
       "      <td id=\"T_f2b21_row3_col1\" class=\"data row3 col1\" >Marca D</td>\n",
       "      <td id=\"T_f2b21_row3_col2\" class=\"data row3 col2\" >26.010000</td>\n",
       "    </tr>\n",
       "    <tr>\n",
       "      <th id=\"T_f2b21_level0_row4\" class=\"row_heading level0 row4\" >4</th>\n",
       "      <td id=\"T_f2b21_row4_col0\" class=\"data row4 col0\" >Jogo de Tabuleiro</td>\n",
       "      <td id=\"T_f2b21_row4_col1\" class=\"data row4 col1\" >Marca E</td>\n",
       "      <td id=\"T_f2b21_row4_col2\" class=\"data row4 col2\" >20.470000</td>\n",
       "    </tr>\n",
       "    <tr>\n",
       "      <th id=\"T_f2b21_level0_row5\" class=\"row_heading level0 row5\" >5</th>\n",
       "      <td id=\"T_f2b21_row5_col0\" class=\"data row5 col0\" >Brinquedo Educativo</td>\n",
       "      <td id=\"T_f2b21_row5_col1\" class=\"data row5 col1\" >Marca D</td>\n",
       "      <td id=\"T_f2b21_row5_col2\" class=\"data row5 col2\" >28.250000</td>\n",
       "    </tr>\n",
       "    <tr>\n",
       "      <th id=\"T_f2b21_level0_row6\" class=\"row_heading level0 row6\" >6</th>\n",
       "      <td id=\"T_f2b21_row6_col0\" class=\"data row6 col0\" >Brinquedo Educativo</td>\n",
       "      <td id=\"T_f2b21_row6_col1\" class=\"data row6 col1\" >Marca C</td>\n",
       "      <td id=\"T_f2b21_row6_col2\" class=\"data row6 col2\" >64.080000</td>\n",
       "    </tr>\n",
       "    <tr>\n",
       "      <th id=\"T_f2b21_level0_row7\" class=\"row_heading level0 row7\" >7</th>\n",
       "      <td id=\"T_f2b21_row7_col0\" class=\"data row7 col0\" >Jogo de Tabuleiro</td>\n",
       "      <td id=\"T_f2b21_row7_col1\" class=\"data row7 col1\" >Marca E</td>\n",
       "      <td id=\"T_f2b21_row7_col2\" class=\"data row7 col2\" >85.660000</td>\n",
       "    </tr>\n",
       "    <tr>\n",
       "      <th id=\"T_f2b21_level0_row8\" class=\"row_heading level0 row8\" >8</th>\n",
       "      <td id=\"T_f2b21_row8_col0\" class=\"data row8 col0\" >Quebra-Cabeça</td>\n",
       "      <td id=\"T_f2b21_row8_col1\" class=\"data row8 col1\" >Marca B</td>\n",
       "      <td id=\"T_f2b21_row8_col2\" class=\"data row8 col2\" >99.970000</td>\n",
       "    </tr>\n",
       "    <tr>\n",
       "      <th id=\"T_f2b21_level0_row9\" class=\"row_heading level0 row9\" >9</th>\n",
       "      <td id=\"T_f2b21_row9_col0\" class=\"data row9 col0\" >Quebra-Cabeça</td>\n",
       "      <td id=\"T_f2b21_row9_col1\" class=\"data row9 col1\" >Marca E</td>\n",
       "      <td id=\"T_f2b21_row9_col2\" class=\"data row9 col2\" >16.220000</td>\n",
       "    </tr>\n",
       "  </tbody>\n",
       "</table>\n"
      ],
      "text/plain": [
       "<pandas.io.formats.style.Styler at 0x1ca58db29a0>"
      ]
     },
     "execution_count": 50,
     "metadata": {},
     "output_type": "execute_result"
    }
   ],
   "source": [
    "df = pd.read_csv(\"df_Produtos.csv\")\n",
    "df.sort_values('Preco_do_produto').sample(10)[['Categoria_do_produto','Marca do produto','Preco_do_produto']]\\\n",
    ".reset_index(drop=True)\\\n",
    ".style\\\n",
    ".background_gradient(cmap=\"Greens\")"
   ]
  },
  {
   "cell_type": "code",
   "execution_count": null,
   "id": "89a0c38d-e5a7-4ca7-b5dd-b6bd550f931c",
   "metadata": {},
   "outputs": [],
   "source": []
  },
  {
   "cell_type": "markdown",
   "id": "d6b1b1c2-d998-4d24-a84b-9a44d9d4e087",
   "metadata": {},
   "source": [
    "# 9 - Usar comandos em cadeia em uma linha gigantesca ao inves de usar parenteses"
   ]
  },
  {
   "cell_type": "code",
   "execution_count": 25,
   "id": "d8b6248a-5a87-4bb9-820a-649622fb8b7e",
   "metadata": {},
   "outputs": [
    {
     "data": {
      "text/html": [
       "<div>\n",
       "<style scoped>\n",
       "    .dataframe tbody tr th:only-of-type {\n",
       "        vertical-align: middle;\n",
       "    }\n",
       "\n",
       "    .dataframe tbody tr th {\n",
       "        vertical-align: top;\n",
       "    }\n",
       "\n",
       "    .dataframe thead th {\n",
       "        text-align: right;\n",
       "    }\n",
       "</style>\n",
       "<table border=\"1\" class=\"dataframe\">\n",
       "  <thead>\n",
       "    <tr style=\"text-align: right;\">\n",
       "      <th></th>\n",
       "      <th>Preco_do_produto</th>\n",
       "    </tr>\n",
       "    <tr>\n",
       "      <th>Marca do produto</th>\n",
       "      <th></th>\n",
       "    </tr>\n",
       "  </thead>\n",
       "  <tbody>\n",
       "    <tr>\n",
       "      <th>Marca A</th>\n",
       "      <td>268.60</td>\n",
       "    </tr>\n",
       "    <tr>\n",
       "      <th>Marca B</th>\n",
       "      <td>200.64</td>\n",
       "    </tr>\n",
       "    <tr>\n",
       "      <th>Marca C</th>\n",
       "      <td>105.59</td>\n",
       "    </tr>\n",
       "    <tr>\n",
       "      <th>Marca E</th>\n",
       "      <td>32.85</td>\n",
       "    </tr>\n",
       "  </tbody>\n",
       "</table>\n",
       "</div>"
      ],
      "text/plain": [
       "                  Preco_do_produto\n",
       "Marca do produto                  \n",
       "Marca A                     268.60\n",
       "Marca B                     200.64\n",
       "Marca C                     105.59\n",
       "Marca E                      32.85"
      ]
     },
     "execution_count": 25,
     "metadata": {},
     "output_type": "execute_result"
    }
   ],
   "source": [
    "df = pd.read_csv(\"df_Produtos.csv\")\n",
    "df = df.query('Categoria_do_produto == \"Carrinho\"').groupby(\"Marca do produto\")[[\"Preco_do_produto\"]].sum().sort_values(\"Preco_do_produto\",ascending=False)\n",
    "df"
   ]
  },
  {
   "cell_type": "code",
   "execution_count": null,
   "id": "660ebf91-d6c2-43b7-a24a-0d1a7ef4bbea",
   "metadata": {},
   "outputs": [],
   "source": []
  },
  {
   "cell_type": "code",
   "execution_count": null,
   "id": "aca809b3-73ec-4b9a-80f3-f25527bc5513",
   "metadata": {},
   "outputs": [],
   "source": []
  },
  {
   "cell_type": "code",
   "execution_count": null,
   "id": "00cb9c94-735a-4f15-b681-750f8e4f0ace",
   "metadata": {},
   "outputs": [],
   "source": []
  },
  {
   "cell_type": "code",
   "execution_count": null,
   "id": "daab9438-f8ab-41ca-a59d-3a25c8c6f8d7",
   "metadata": {},
   "outputs": [],
   "source": []
  },
  {
   "cell_type": "code",
   "execution_count": null,
   "id": "6aee9b9e-1c12-47dc-be7c-440e4692e0d9",
   "metadata": {},
   "outputs": [],
   "source": []
  },
  {
   "cell_type": "code",
   "execution_count": 53,
   "id": "62a6d1f3-91cc-448c-9630-eb3418936434",
   "metadata": {},
   "outputs": [
    {
     "data": {
      "text/html": [
       "<div>\n",
       "<style scoped>\n",
       "    .dataframe tbody tr th:only-of-type {\n",
       "        vertical-align: middle;\n",
       "    }\n",
       "\n",
       "    .dataframe tbody tr th {\n",
       "        vertical-align: top;\n",
       "    }\n",
       "\n",
       "    .dataframe thead th {\n",
       "        text-align: right;\n",
       "    }\n",
       "</style>\n",
       "<table border=\"1\" class=\"dataframe\">\n",
       "  <thead>\n",
       "    <tr style=\"text-align: right;\">\n",
       "      <th></th>\n",
       "      <th>Preco_do_produto</th>\n",
       "    </tr>\n",
       "    <tr>\n",
       "      <th>Marca do produto</th>\n",
       "      <th></th>\n",
       "    </tr>\n",
       "  </thead>\n",
       "  <tbody>\n",
       "    <tr>\n",
       "      <th>Marca A</th>\n",
       "      <td>268.60</td>\n",
       "    </tr>\n",
       "    <tr>\n",
       "      <th>Marca B</th>\n",
       "      <td>200.64</td>\n",
       "    </tr>\n",
       "    <tr>\n",
       "      <th>Marca C</th>\n",
       "      <td>105.59</td>\n",
       "    </tr>\n",
       "    <tr>\n",
       "      <th>Marca E</th>\n",
       "      <td>32.85</td>\n",
       "    </tr>\n",
       "  </tbody>\n",
       "</table>\n",
       "</div>"
      ],
      "text/plain": [
       "                  Preco_do_produto\n",
       "Marca do produto                  \n",
       "Marca A                     268.60\n",
       "Marca B                     200.64\n",
       "Marca C                     105.59\n",
       "Marca E                      32.85"
      ]
     },
     "execution_count": 53,
     "metadata": {},
     "output_type": "execute_result"
    }
   ],
   "source": [
    "df = pd.read_csv(\"df_Produtos.csv\")\n",
    "df = (df.query('Categoria_do_produto == \"Carrinho\"')\n",
    "      .groupby(\"Marca do produto\")[[\"Preco_do_produto\"]].sum()\n",
    "      .sort_values(\"Preco_do_produto\",ascending=False)\n",
    "     )\n",
    "df"
   ]
  },
  {
   "cell_type": "code",
   "execution_count": null,
   "id": "5d8f883e-fe91-4dfe-892e-1319775ac0b8",
   "metadata": {},
   "outputs": [],
   "source": []
  },
  {
   "cell_type": "code",
   "execution_count": null,
   "id": "758097d8-98b1-4df0-b252-024c119eb512",
   "metadata": {},
   "outputs": [],
   "source": []
  },
  {
   "cell_type": "code",
   "execution_count": null,
   "id": "e5a1bb31-110c-488a-ac6d-9d30ddaf6752",
   "metadata": {},
   "outputs": [],
   "source": []
  },
  {
   "cell_type": "code",
   "execution_count": null,
   "id": "c60178a9-560c-4440-a36b-b844e270cd58",
   "metadata": {},
   "outputs": [],
   "source": []
  },
  {
   "cell_type": "code",
   "execution_count": null,
   "id": "3d164865-002d-41ee-a286-6fb5ddb52d12",
   "metadata": {},
   "outputs": [],
   "source": []
  },
  {
   "cell_type": "code",
   "execution_count": null,
   "id": "f4030ece-d76f-456b-9f6a-9794dba2ac93",
   "metadata": {},
   "outputs": [],
   "source": []
  },
  {
   "cell_type": "markdown",
   "id": "60e6ccf3-c0ab-4891-b0e4-cd11b6d19c38",
   "metadata": {},
   "source": [
    "# 10 - Nao usar dados categoricos para colunas com poucos valores"
   ]
  },
  {
   "cell_type": "code",
   "execution_count": 27,
   "id": "cdc6ea60-6c8f-4fa4-9c18-1e1893635b3e",
   "metadata": {},
   "outputs": [
    {
     "name": "stdout",
     "output_type": "stream",
     "text": [
      "<class 'pandas.core.frame.DataFrame'>\n",
      "RangeIndex: 50 entries, 0 to 49\n",
      "Data columns (total 5 columns):\n",
      " #   Column                Non-Null Count  Dtype  \n",
      "---  ------                --------------  -----  \n",
      " 0   Numero_do_produto     50 non-null     int64  \n",
      " 1   Nome_do_produto       50 non-null     object \n",
      " 2   Categoria_do_produto  50 non-null     object \n",
      " 3   Marca do produto      50 non-null     object \n",
      " 4   Preco_do_produto      50 non-null     float64\n",
      "dtypes: float64(1), int64(1), object(3)\n",
      "memory usage: 2.1+ KB\n"
     ]
    },
    {
     "data": {
      "text/plain": [
       "Categoria_do_produto\n",
       "Brinquedo Educativo     13\n",
       "Quebra-Cabeça           12\n",
       "Carrinho                11\n",
       "Brinquedo de Pelúcia     8\n",
       "Jogo de Tabuleiro        6\n",
       "Name: count, dtype: int64"
      ]
     },
     "execution_count": 27,
     "metadata": {},
     "output_type": "execute_result"
    }
   ],
   "source": [
    "df = pd.read_csv(\"df_Produtos.csv\")\n",
    "df.info()\n",
    "df.Categoria_do_produto.value_counts()"
   ]
  },
  {
   "cell_type": "code",
   "execution_count": 28,
   "id": "8e3e3f9c-4214-4c47-bb36-149f506313b6",
   "metadata": {},
   "outputs": [
    {
     "name": "stdout",
     "output_type": "stream",
     "text": [
      "<class 'pandas.core.frame.DataFrame'>\n",
      "RangeIndex: 50 entries, 0 to 49\n",
      "Data columns (total 5 columns):\n",
      " #   Column                Non-Null Count  Dtype   \n",
      "---  ------                --------------  -----   \n",
      " 0   Numero_do_produto     50 non-null     int64   \n",
      " 1   Nome_do_produto       50 non-null     object  \n",
      " 2   Categoria_do_produto  50 non-null     category\n",
      " 3   Marca do produto      50 non-null     object  \n",
      " 4   Preco_do_produto      50 non-null     float64 \n",
      "dtypes: category(1), float64(1), int64(1), object(2)\n",
      "memory usage: 1.9+ KB\n"
     ]
    }
   ],
   "source": [
    "df[\"Categoria_do_produto\"] = df[\"Categoria_do_produto\"].astype('category')\n",
    "df.info()"
   ]
  },
  {
   "cell_type": "code",
   "execution_count": 29,
   "id": "82cc3cb5-23a6-40f9-a81d-133930fd2ca8",
   "metadata": {},
   "outputs": [
    {
     "data": {
      "text/plain": [
       "Categoria_do_produto\n",
       "Brinquedo Educativo     13\n",
       "Quebra-Cabeça           12\n",
       "Carrinho                11\n",
       "Brinquedo de Pelúcia     8\n",
       "Jogo de Tabuleiro        6\n",
       "Name: count, dtype: int64"
      ]
     },
     "execution_count": 29,
     "metadata": {},
     "output_type": "execute_result"
    }
   ],
   "source": [
    "df.Categoria_do_produto.value_counts()"
   ]
  },
  {
   "cell_type": "code",
   "execution_count": null,
   "id": "a65f22b2-614e-4309-b4bd-9034ab203b3c",
   "metadata": {},
   "outputs": [],
   "source": []
  },
  {
   "cell_type": "code",
   "execution_count": null,
   "id": "9deeafc4-0ea9-4045-bd85-b4e0ac6f1154",
   "metadata": {},
   "outputs": [],
   "source": []
  }
 ],
 "metadata": {
  "kernelspec": {
   "display_name": "Python 3 (ipykernel)",
   "language": "python",
   "name": "python3"
  },
  "language_info": {
   "codemirror_mode": {
    "name": "ipython",
    "version": 3
   },
   "file_extension": ".py",
   "mimetype": "text/x-python",
   "name": "python",
   "nbconvert_exporter": "python",
   "pygments_lexer": "ipython3",
   "version": "3.9.7"
  }
 },
 "nbformat": 4,
 "nbformat_minor": 5
}
